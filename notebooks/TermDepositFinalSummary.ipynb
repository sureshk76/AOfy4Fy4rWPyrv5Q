{
 "cells": [
  {
   "cell_type": "code",
   "execution_count": 1,
   "id": "a6a605b3",
   "metadata": {},
   "outputs": [],
   "source": [
    "import pandas as pd\n",
    "from sklearn.model_selection import train_test_split, GridSearchCV\n",
    "from sklearn.preprocessing import OneHotEncoder, StandardScaler, MinMaxScaler, PowerTransformer\n",
    "from sklearn.compose import ColumnTransformer\n",
    "from sklearn.linear_model import LogisticRegression\n",
    "from sklearn.tree import DecisionTreeClassifier\n",
    "from sklearn.metrics import accuracy_score, confusion_matrix, classification_report, f1_score\n",
    "from sklearn.pipeline import Pipeline\n",
    "from imblearn.under_sampling import RandomUnderSampler\n",
    "from imblearn.over_sampling import SMOTE\n",
    "from sklearn.neighbors import KNeighborsClassifier\n",
    "from sklearn.svm import SVC\n",
    "from sklearn.ensemble import RandomForestClassifier\n",
    "import numpy as np\n",
    "from scipy.stats import zscore"
   ]
  },
  {
   "cell_type": "code",
   "execution_count": 2,
   "id": "7a893297",
   "metadata": {},
   "outputs": [],
   "source": [
    "df = pd.read_csv(\"../data/processed/data.csv\")"
   ]
  },
  {
   "cell_type": "markdown",
   "id": "9b91b4b0",
   "metadata": {},
   "source": [
    "#### DATA PREPROCESSING"
   ]
  },
  {
   "cell_type": "markdown",
   "id": "52949cf1",
   "metadata": {},
   "source": [
    "###### TRANSFORMING NUMERICAL FEATURES\n",
    "Finding skew and using the transformer that produces the least amount of skew:"
   ]
  },
  {
   "cell_type": "code",
   "execution_count": 3,
   "id": "e4605779",
   "metadata": {},
   "outputs": [
    {
     "data": {
      "text/html": [
       "<div>\n",
       "<style scoped>\n",
       "    .dataframe tbody tr th:only-of-type {\n",
       "        vertical-align: middle;\n",
       "    }\n",
       "\n",
       "    .dataframe tbody tr th {\n",
       "        vertical-align: top;\n",
       "    }\n",
       "\n",
       "    .dataframe thead th {\n",
       "        text-align: right;\n",
       "    }\n",
       "</style>\n",
       "<table border=\"1\" class=\"dataframe\">\n",
       "  <thead>\n",
       "    <tr style=\"text-align: right;\">\n",
       "      <th></th>\n",
       "      <th>skew</th>\n",
       "      <th>kurtosis</th>\n",
       "    </tr>\n",
       "  </thead>\n",
       "  <tbody>\n",
       "    <tr>\n",
       "      <th>age</th>\n",
       "      <td>0.436080</td>\n",
       "      <td>-0.503828</td>\n",
       "    </tr>\n",
       "    <tr>\n",
       "      <th>balance</th>\n",
       "      <td>8.259236</td>\n",
       "      <td>141.833247</td>\n",
       "    </tr>\n",
       "    <tr>\n",
       "      <th>duration</th>\n",
       "      <td>3.165307</td>\n",
       "      <td>18.189852</td>\n",
       "    </tr>\n",
       "    <tr>\n",
       "      <th>campaign</th>\n",
       "      <td>4.730901</td>\n",
       "      <td>36.223536</td>\n",
       "    </tr>\n",
       "    <tr>\n",
       "      <th>DaysSinceLastContact</th>\n",
       "      <td>-0.392312</td>\n",
       "      <td>0.253429</td>\n",
       "    </tr>\n",
       "  </tbody>\n",
       "</table>\n",
       "</div>"
      ],
      "text/plain": [
       "                          skew    kurtosis\n",
       "age                   0.436080   -0.503828\n",
       "balance               8.259236  141.833247\n",
       "duration              3.165307   18.189852\n",
       "campaign              4.730901   36.223536\n",
       "DaysSinceLastContact -0.392312    0.253429"
      ]
     },
     "execution_count": 3,
     "metadata": {},
     "output_type": "execute_result"
    }
   ],
   "source": [
    "numerical_features = ['age', 'balance', 'duration', 'campaign', 'DaysSinceLastContact']\n",
    "df[numerical_features].agg(['skew', 'kurtosis']).T"
   ]
  },
  {
   "cell_type": "code",
   "execution_count": 4,
   "id": "91f06fd1",
   "metadata": {},
   "outputs": [
    {
     "data": {
      "text/html": [
       "<div>\n",
       "<style scoped>\n",
       "    .dataframe tbody tr th:only-of-type {\n",
       "        vertical-align: middle;\n",
       "    }\n",
       "\n",
       "    .dataframe tbody tr th {\n",
       "        vertical-align: top;\n",
       "    }\n",
       "\n",
       "    .dataframe thead th {\n",
       "        text-align: right;\n",
       "    }\n",
       "</style>\n",
       "<table border=\"1\" class=\"dataframe\">\n",
       "  <thead>\n",
       "    <tr style=\"text-align: right;\">\n",
       "      <th></th>\n",
       "      <th>skew</th>\n",
       "      <th>kurtosis</th>\n",
       "    </tr>\n",
       "  </thead>\n",
       "  <tbody>\n",
       "    <tr>\n",
       "      <th>age</th>\n",
       "      <td>0.436080</td>\n",
       "      <td>-0.503828</td>\n",
       "    </tr>\n",
       "    <tr>\n",
       "      <th>balance</th>\n",
       "      <td>8.259236</td>\n",
       "      <td>141.833247</td>\n",
       "    </tr>\n",
       "    <tr>\n",
       "      <th>duration</th>\n",
       "      <td>3.165307</td>\n",
       "      <td>18.189852</td>\n",
       "    </tr>\n",
       "    <tr>\n",
       "      <th>campaign</th>\n",
       "      <td>4.730901</td>\n",
       "      <td>36.223536</td>\n",
       "    </tr>\n",
       "    <tr>\n",
       "      <th>DaysSinceLastContact</th>\n",
       "      <td>-0.392312</td>\n",
       "      <td>0.253429</td>\n",
       "    </tr>\n",
       "  </tbody>\n",
       "</table>\n",
       "</div>"
      ],
      "text/plain": [
       "                          skew    kurtosis\n",
       "age                   0.436080   -0.503828\n",
       "balance               8.259236  141.833247\n",
       "duration              3.165307   18.189852\n",
       "campaign              4.730901   36.223536\n",
       "DaysSinceLastContact -0.392312    0.253429"
      ]
     },
     "execution_count": 4,
     "metadata": {},
     "output_type": "execute_result"
    }
   ],
   "source": [
    "SS = StandardScaler()\n",
    "SSArray = SS.fit_transform(df[numerical_features])\n",
    "SSData = pd.DataFrame(SSArray, columns=numerical_features)\n",
    "SSData.agg(['skew', 'kurtosis']).T"
   ]
  },
  {
   "cell_type": "code",
   "execution_count": 5,
   "id": "6fa19bca",
   "metadata": {},
   "outputs": [
    {
     "data": {
      "text/html": [
       "<div>\n",
       "<style scoped>\n",
       "    .dataframe tbody tr th:only-of-type {\n",
       "        vertical-align: middle;\n",
       "    }\n",
       "\n",
       "    .dataframe tbody tr th {\n",
       "        vertical-align: top;\n",
       "    }\n",
       "\n",
       "    .dataframe thead th {\n",
       "        text-align: right;\n",
       "    }\n",
       "</style>\n",
       "<table border=\"1\" class=\"dataframe\">\n",
       "  <thead>\n",
       "    <tr style=\"text-align: right;\">\n",
       "      <th></th>\n",
       "      <th>skew</th>\n",
       "      <th>kurtosis</th>\n",
       "    </tr>\n",
       "  </thead>\n",
       "  <tbody>\n",
       "    <tr>\n",
       "      <th>age</th>\n",
       "      <td>0.436080</td>\n",
       "      <td>-0.503828</td>\n",
       "    </tr>\n",
       "    <tr>\n",
       "      <th>balance</th>\n",
       "      <td>8.259236</td>\n",
       "      <td>141.833247</td>\n",
       "    </tr>\n",
       "    <tr>\n",
       "      <th>duration</th>\n",
       "      <td>3.165307</td>\n",
       "      <td>18.189852</td>\n",
       "    </tr>\n",
       "    <tr>\n",
       "      <th>campaign</th>\n",
       "      <td>4.730901</td>\n",
       "      <td>36.223536</td>\n",
       "    </tr>\n",
       "    <tr>\n",
       "      <th>DaysSinceLastContact</th>\n",
       "      <td>-0.392312</td>\n",
       "      <td>0.253429</td>\n",
       "    </tr>\n",
       "  </tbody>\n",
       "</table>\n",
       "</div>"
      ],
      "text/plain": [
       "                          skew    kurtosis\n",
       "age                   0.436080   -0.503828\n",
       "balance               8.259236  141.833247\n",
       "duration              3.165307   18.189852\n",
       "campaign              4.730901   36.223536\n",
       "DaysSinceLastContact -0.392312    0.253429"
      ]
     },
     "execution_count": 5,
     "metadata": {},
     "output_type": "execute_result"
    }
   ],
   "source": [
    "MM = MinMaxScaler()\n",
    "MMArray = MM.fit_transform(df[numerical_features])\n",
    "MMData = pd.DataFrame(MMArray, columns=numerical_features)\n",
    "MMData.agg(['skew', 'kurtosis']).T"
   ]
  },
  {
   "cell_type": "code",
   "execution_count": 6,
   "id": "7620034f",
   "metadata": {},
   "outputs": [
    {
     "data": {
      "text/html": [
       "<div>\n",
       "<style scoped>\n",
       "    .dataframe tbody tr th:only-of-type {\n",
       "        vertical-align: middle;\n",
       "    }\n",
       "\n",
       "    .dataframe tbody tr th {\n",
       "        vertical-align: top;\n",
       "    }\n",
       "\n",
       "    .dataframe thead th {\n",
       "        text-align: right;\n",
       "    }\n",
       "</style>\n",
       "<table border=\"1\" class=\"dataframe\">\n",
       "  <thead>\n",
       "    <tr style=\"text-align: right;\">\n",
       "      <th></th>\n",
       "      <th>skew</th>\n",
       "      <th>kurtosis</th>\n",
       "    </tr>\n",
       "  </thead>\n",
       "  <tbody>\n",
       "    <tr>\n",
       "      <th>age</th>\n",
       "      <td>0.001901</td>\n",
       "      <td>-0.770615</td>\n",
       "    </tr>\n",
       "    <tr>\n",
       "      <th>balance</th>\n",
       "      <td>1.058649</td>\n",
       "      <td>82.982952</td>\n",
       "    </tr>\n",
       "    <tr>\n",
       "      <th>duration</th>\n",
       "      <td>0.013301</td>\n",
       "      <td>0.360479</td>\n",
       "    </tr>\n",
       "    <tr>\n",
       "      <th>campaign</th>\n",
       "      <td>0.213011</td>\n",
       "      <td>-1.169580</td>\n",
       "    </tr>\n",
       "    <tr>\n",
       "      <th>DaysSinceLastContact</th>\n",
       "      <td>-0.002016</td>\n",
       "      <td>0.150112</td>\n",
       "    </tr>\n",
       "  </tbody>\n",
       "</table>\n",
       "</div>"
      ],
      "text/plain": [
       "                          skew   kurtosis\n",
       "age                   0.001901  -0.770615\n",
       "balance               1.058649  82.982952\n",
       "duration              0.013301   0.360479\n",
       "campaign              0.213011  -1.169580\n",
       "DaysSinceLastContact -0.002016   0.150112"
      ]
     },
     "execution_count": 6,
     "metadata": {},
     "output_type": "execute_result"
    }
   ],
   "source": [
    "PTY = PowerTransformer(method='yeo-johnson')\n",
    "PTArray = PTY.fit_transform(df[numerical_features])\n",
    "PTYData = pd.DataFrame(PTArray, columns=numerical_features)\n",
    "PTYData.agg(['skew', 'kurtosis']).T"
   ]
  },
  {
   "cell_type": "markdown",
   "id": "2e10c4eb",
   "metadata": {},
   "source": [
    "###### CONCLUSION\n",
    "Yeo-Johnson transformation seems to be the most suitable.\n",
    "\n",
    "###### CLIPPING\n",
    "The feature 'balance' has a skew greater than 0.5.  Let's see if there are any outliers affecting it"
   ]
  },
  {
   "cell_type": "code",
   "execution_count": 7,
   "id": "6d459b27",
   "metadata": {},
   "outputs": [
    {
     "name": "stdout",
     "output_type": "stream",
     "text": [
      "Number of enries where p(z) > 3:  765\n",
      "Data loss upon removing entries where p(z) > 3:  0.019125\n",
      "(40000, 13)\n",
      "(39235, 13)\n"
     ]
    }
   ],
   "source": [
    "zTransform = np.abs(zscore(PTYData.balance))\n",
    "print('Number of enries where p(z) > 3: ', len(np.where(zTransform > 3)[0]))\n",
    "print('Data loss upon removing entries where p(z) > 3: ', (len(np.where(zTransform > 3)[0]))/len(PTYData.balance))\n",
    "df2 = df.drop(np.where(zTransform > 3)[0], axis=0).reset_index(drop=True)\n",
    "print(df.shape)\n",
    "print(df2.shape)"
   ]
  },
  {
   "cell_type": "code",
   "execution_count": 8,
   "id": "cd6e2910",
   "metadata": {},
   "outputs": [
    {
     "name": "stdout",
     "output_type": "stream",
     "text": [
      "[[ 1.62878715  0.74864653  0.41302279 ...  1.          0.\n",
      "   0.        ]\n",
      " [ 0.46908395 -0.50599955 -0.19023953 ...  0.          0.\n",
      "   0.        ]\n",
      " [-0.74375393 -0.53669789 -0.89188542 ...  0.          0.\n",
      "   0.        ]\n",
      " ...\n",
      " [ 1.32937774 -0.36480578 -0.06296466 ...  0.          0.\n",
      "   0.        ]\n",
      " [-0.61772143  0.16595194  0.72597005 ...  1.          0.\n",
      "   0.        ]\n",
      " [-0.1484667   0.38384466 -0.49385192 ...  0.          0.\n",
      "   0.        ]] [1. 1. 1. ... 0. 0. 0.]\n",
      "(39235, 22)\n",
      "(39235,)\n",
      "<class 'numpy.ndarray'>\n"
     ]
    }
   ],
   "source": [
    "numerical_features = ['age', 'balance', 'duration', 'campaign', 'DaysSinceLastContact']\n",
    "categorical_features = ['job', 'marital', 'education', 'contact']\n",
    "numerical_transformer = PowerTransformer(method='yeo-johnson')\n",
    "categorical_transformer = OneHotEncoder(drop='first')\n",
    "preprocessor = ColumnTransformer(\n",
    "    transformers=[\n",
    "        ('num', numerical_transformer, numerical_features),\n",
    "        ('cat', categorical_transformer, categorical_features)\n",
    "    ])\n",
    "\n",
    "# Create a pipeline with the preprocessor\n",
    "pipeline = Pipeline(steps=[('preprocessor', preprocessor)])\n",
    "\n",
    "# Fit and transform the data\n",
    "transformed_data = pipeline.fit_transform(df2)\n",
    "\n",
    "X_transformed = transformed_data[:, :-1]\n",
    "y_transformed = transformed_data[:, -1]\n",
    "\n",
    "print(X_transformed, y_transformed)\n",
    "print(X_transformed.shape)\n",
    "print(y_transformed.shape)\n",
    "print(type(X_transformed))"
   ]
  },
  {
   "cell_type": "code",
   "execution_count": 9,
   "id": "1afd40e8",
   "metadata": {},
   "outputs": [
    {
     "name": "stdout",
     "output_type": "stream",
     "text": [
      "(53416, 22) (53416,)\n"
     ]
    }
   ],
   "source": [
    "smote = SMOTE()\n",
    "X_smote, y_smote = smote.fit_resample(X_transformed, y_transformed)\n",
    "print(X_smote.shape, y_smote.shape)\n"
   ]
  },
  {
   "cell_type": "code",
   "execution_count": 10,
   "id": "2156ddfe",
   "metadata": {
    "scrolled": true
   },
   "outputs": [
    {
     "name": "stdout",
     "output_type": "stream",
     "text": [
      "(42732, 22) (10684, 22) (42732,) (10684,)\n"
     ]
    }
   ],
   "source": [
    "X_train, X_test, y_train, y_test = train_test_split(X_smote, y_smote, test_size=0.2)\n",
    "\n",
    "print(X_train.shape, X_test.shape, y_train.shape, y_test.shape)\n"
   ]
  },
  {
   "cell_type": "code",
   "execution_count": 11,
   "id": "25b2fc22",
   "metadata": {},
   "outputs": [
    {
     "name": "stdout",
     "output_type": "stream",
     "text": [
      "0.9334577694820345\n",
      "Accuracy: 0.93\n",
      "[[4970  361]\n",
      " [ 352 5001]]\n",
      "              precision    recall  f1-score   support\n",
      "\n",
      "         0.0       0.93      0.93      0.93      5331\n",
      "         1.0       0.93      0.93      0.93      5353\n",
      "\n",
      "    accuracy                           0.93     10684\n",
      "   macro avg       0.93      0.93      0.93     10684\n",
      "weighted avg       0.93      0.93      0.93     10684\n",
      "\n"
     ]
    },
    {
     "data": {
      "text/html": [
       "<style>#sk-container-id-1 {color: black;background-color: white;}#sk-container-id-1 pre{padding: 0;}#sk-container-id-1 div.sk-toggleable {background-color: white;}#sk-container-id-1 label.sk-toggleable__label {cursor: pointer;display: block;width: 100%;margin-bottom: 0;padding: 0.3em;box-sizing: border-box;text-align: center;}#sk-container-id-1 label.sk-toggleable__label-arrow:before {content: \"▸\";float: left;margin-right: 0.25em;color: #696969;}#sk-container-id-1 label.sk-toggleable__label-arrow:hover:before {color: black;}#sk-container-id-1 div.sk-estimator:hover label.sk-toggleable__label-arrow:before {color: black;}#sk-container-id-1 div.sk-toggleable__content {max-height: 0;max-width: 0;overflow: hidden;text-align: left;background-color: #f0f8ff;}#sk-container-id-1 div.sk-toggleable__content pre {margin: 0.2em;color: black;border-radius: 0.25em;background-color: #f0f8ff;}#sk-container-id-1 input.sk-toggleable__control:checked~div.sk-toggleable__content {max-height: 200px;max-width: 100%;overflow: auto;}#sk-container-id-1 input.sk-toggleable__control:checked~label.sk-toggleable__label-arrow:before {content: \"▾\";}#sk-container-id-1 div.sk-estimator input.sk-toggleable__control:checked~label.sk-toggleable__label {background-color: #d4ebff;}#sk-container-id-1 div.sk-label input.sk-toggleable__control:checked~label.sk-toggleable__label {background-color: #d4ebff;}#sk-container-id-1 input.sk-hidden--visually {border: 0;clip: rect(1px 1px 1px 1px);clip: rect(1px, 1px, 1px, 1px);height: 1px;margin: -1px;overflow: hidden;padding: 0;position: absolute;width: 1px;}#sk-container-id-1 div.sk-estimator {font-family: monospace;background-color: #f0f8ff;border: 1px dotted black;border-radius: 0.25em;box-sizing: border-box;margin-bottom: 0.5em;}#sk-container-id-1 div.sk-estimator:hover {background-color: #d4ebff;}#sk-container-id-1 div.sk-parallel-item::after {content: \"\";width: 100%;border-bottom: 1px solid gray;flex-grow: 1;}#sk-container-id-1 div.sk-label:hover label.sk-toggleable__label {background-color: #d4ebff;}#sk-container-id-1 div.sk-serial::before {content: \"\";position: absolute;border-left: 1px solid gray;box-sizing: border-box;top: 0;bottom: 0;left: 50%;z-index: 0;}#sk-container-id-1 div.sk-serial {display: flex;flex-direction: column;align-items: center;background-color: white;padding-right: 0.2em;padding-left: 0.2em;position: relative;}#sk-container-id-1 div.sk-item {position: relative;z-index: 1;}#sk-container-id-1 div.sk-parallel {display: flex;align-items: stretch;justify-content: center;background-color: white;position: relative;}#sk-container-id-1 div.sk-item::before, #sk-container-id-1 div.sk-parallel-item::before {content: \"\";position: absolute;border-left: 1px solid gray;box-sizing: border-box;top: 0;bottom: 0;left: 50%;z-index: -1;}#sk-container-id-1 div.sk-parallel-item {display: flex;flex-direction: column;z-index: 1;position: relative;background-color: white;}#sk-container-id-1 div.sk-parallel-item:first-child::after {align-self: flex-end;width: 50%;}#sk-container-id-1 div.sk-parallel-item:last-child::after {align-self: flex-start;width: 50%;}#sk-container-id-1 div.sk-parallel-item:only-child::after {width: 0;}#sk-container-id-1 div.sk-dashed-wrapped {border: 1px dashed gray;margin: 0 0.4em 0.5em 0.4em;box-sizing: border-box;padding-bottom: 0.4em;background-color: white;}#sk-container-id-1 div.sk-label label {font-family: monospace;font-weight: bold;display: inline-block;line-height: 1.2em;}#sk-container-id-1 div.sk-label-container {text-align: center;}#sk-container-id-1 div.sk-container {/* jupyter's `normalize.less` sets `[hidden] { display: none; }` but bootstrap.min.css set `[hidden] { display: none !important; }` so we also need the `!important` here to be able to override the default hidden behavior on the sphinx rendered scikit-learn.org. See: https://github.com/scikit-learn/scikit-learn/issues/21755 */display: inline-block !important;position: relative;}#sk-container-id-1 div.sk-text-repr-fallback {display: none;}</style><div id=\"sk-container-id-1\" class=\"sk-top-container\"><div class=\"sk-text-repr-fallback\"><pre>DecisionTreeClassifier()</pre><b>In a Jupyter environment, please rerun this cell to show the HTML representation or trust the notebook. <br />On GitHub, the HTML representation is unable to render, please try loading this page with nbviewer.org.</b></div><div class=\"sk-container\" hidden><div class=\"sk-item\"><div class=\"sk-estimator sk-toggleable\"><input class=\"sk-toggleable__control sk-hidden--visually\" id=\"sk-estimator-id-1\" type=\"checkbox\" checked><label for=\"sk-estimator-id-1\" class=\"sk-toggleable__label sk-toggleable__label-arrow\">DecisionTreeClassifier</label><div class=\"sk-toggleable__content\"><pre>DecisionTreeClassifier()</pre></div></div></div></div></div>"
      ],
      "text/plain": [
       "DecisionTreeClassifier()"
      ]
     },
     "execution_count": 11,
     "metadata": {},
     "output_type": "execute_result"
    }
   ],
   "source": [
    "dtc_model = DecisionTreeClassifier()\n",
    "# Train the model\n",
    "dtc_model.fit(X_train, y_train)\n",
    "\n",
    "# Make predictions\n",
    "y_pred = dtc_model.predict(X_test)\n",
    "\n",
    "f1_1 = f1_score(y_test, y_pred, average='binary')\n",
    "print(f1_1)\n",
    "# Calculate accuracy\n",
    "accuracy = accuracy_score(y_test, y_pred)\n",
    "print(f\"Accuracy: {accuracy:.2f}\")\n",
    "\n",
    "cm = confusion_matrix(y_test, y_pred)\n",
    "cr = classification_report(y_test, y_pred)\n",
    "\n",
    "print(cm)\n",
    "\n",
    "print(cr)\n",
    "dtc_model"
   ]
  },
  {
   "cell_type": "code",
   "execution_count": 12,
   "id": "42e05b14",
   "metadata": {},
   "outputs": [
    {
     "name": "stdout",
     "output_type": "stream",
     "text": [
      "0.6645234164566861\n",
      "Accuracy: 0.64\n",
      "[[2999 2332]\n",
      " [1529 3824]]\n",
      "              precision    recall  f1-score   support\n",
      "\n",
      "         0.0       0.66      0.56      0.61      5331\n",
      "         1.0       0.62      0.71      0.66      5353\n",
      "\n",
      "    accuracy                           0.64     10684\n",
      "   macro avg       0.64      0.64      0.64     10684\n",
      "weighted avg       0.64      0.64      0.64     10684\n",
      "\n"
     ]
    }
   ],
   "source": [
    "lr_model = LogisticRegression()\n",
    "\n",
    "# Train the model\n",
    "lr_model.fit(X_train, y_train)\n",
    "\n",
    "# Make predictions\n",
    "y_pred = lr_model.predict(X_test)\n",
    "\n",
    "f1_1 = f1_score(y_test, y_pred, average='binary')\n",
    "print(f1_1)\n",
    "# Calculate accuracy\n",
    "accuracy = accuracy_score(y_test, y_pred)\n",
    "print(f\"Accuracy: {accuracy:.2f}\")\n",
    "\n",
    "cm = confusion_matrix(y_test, y_pred)\n",
    "cr = classification_report(y_test, y_pred)\n",
    "\n",
    "print(cm)\n",
    "\n",
    "print(cr)"
   ]
  },
  {
   "cell_type": "code",
   "execution_count": 16,
   "id": "bb155a26",
   "metadata": {},
   "outputs": [],
   "source": [
    "knn_model = KNeighborsClassifier(n_neighbors = 5, metric = 'minkowski', p = 2)"
   ]
  },
  {
   "cell_type": "code",
   "execution_count": 17,
   "id": "87b790eb",
   "metadata": {},
   "outputs": [
    {
     "name": "stdout",
     "output_type": "stream",
     "text": [
      "0.8528619528619528\n",
      "Accuracy: 0.84\n",
      "[[3870 1461]\n",
      " [ 287 5066]]\n",
      "              precision    recall  f1-score   support\n",
      "\n",
      "         0.0       0.93      0.73      0.82      5331\n",
      "         1.0       0.78      0.95      0.85      5353\n",
      "\n",
      "    accuracy                           0.84     10684\n",
      "   macro avg       0.85      0.84      0.83     10684\n",
      "weighted avg       0.85      0.84      0.83     10684\n",
      "\n"
     ]
    }
   ],
   "source": [
    "knn_model.fit(X_train, y_train)\n",
    "\n",
    "# Make predictions\n",
    "y_pred = knn_model.predict(X_test)\n",
    "\n",
    "f1_1 = f1_score(y_test, y_pred, average='binary')\n",
    "print(f1_1)\n",
    "# Calculate accuracy\n",
    "accuracy = accuracy_score(y_test, y_pred)\n",
    "print(f\"Accuracy: {accuracy:.2f}\")\n",
    "\n",
    "cm = confusion_matrix(y_test, y_pred)\n",
    "cr = classification_report(y_test, y_pred)\n",
    "\n",
    "print(cm)\n",
    "\n",
    "print(cr)"
   ]
  },
  {
   "cell_type": "code",
   "execution_count": 15,
   "id": "1ddf71cf",
   "metadata": {},
   "outputs": [
    {
     "name": "stdout",
     "output_type": "stream",
     "text": [
      "0.7159108378170638\n",
      "Accuracy: 0.65\n",
      "[[2331 3000]\n",
      " [ 696 4657]]\n",
      "              precision    recall  f1-score   support\n",
      "\n",
      "         0.0       0.77      0.44      0.56      5331\n",
      "         1.0       0.61      0.87      0.72      5353\n",
      "\n",
      "    accuracy                           0.65     10684\n",
      "   macro avg       0.69      0.65      0.64     10684\n",
      "weighted avg       0.69      0.65      0.64     10684\n",
      "\n"
     ]
    }
   ],
   "source": [
    "svc_model = SVC(kernel = 'linear')\n",
    "svc_model.fit(X_train, y_train)\n",
    "\n",
    "# Make predictions\n",
    "y_pred = svc_model.predict(X_test)\n",
    "\n",
    "f1_1 = f1_score(y_test, y_pred, average='binary')\n",
    "print(f1_1)\n",
    "# Calculate accuracy\n",
    "accuracy = accuracy_score(y_test, y_pred)\n",
    "print(f\"Accuracy: {accuracy:.2f}\")\n",
    "\n",
    "cm = confusion_matrix(y_test, y_pred)\n",
    "cr = classification_report(y_test, y_pred)\n",
    "\n",
    "print(cm)\n",
    "\n",
    "print(cr)"
   ]
  },
  {
   "cell_type": "code",
   "execution_count": 18,
   "id": "c3e5d842",
   "metadata": {},
   "outputs": [
    {
     "name": "stdout",
     "output_type": "stream",
     "text": [
      "0.925942920069744\n",
      "Accuracy: 0.92\n",
      "[[4832  499]\n",
      " [ 308 5045]]\n",
      "              precision    recall  f1-score   support\n",
      "\n",
      "         0.0       0.94      0.91      0.92      5331\n",
      "         1.0       0.91      0.94      0.93      5353\n",
      "\n",
      "    accuracy                           0.92     10684\n",
      "   macro avg       0.93      0.92      0.92     10684\n",
      "weighted avg       0.93      0.92      0.92     10684\n",
      "\n"
     ]
    }
   ],
   "source": [
    "rf_model = RandomForestClassifier(n_estimators = 10, criterion = 'entropy')\n",
    "rf_model.fit(X_train, y_train)\n",
    "\n",
    "# Make predictions\n",
    "y_pred = rf_model.predict(X_test)\n",
    "\n",
    "f1_1 = f1_score(y_test, y_pred, average='binary')\n",
    "print(f1_1)\n",
    "# Calculate accuracy\n",
    "accuracy = accuracy_score(y_test, y_pred)\n",
    "print(f\"Accuracy: {accuracy:.2f}\")\n",
    "\n",
    "cm = confusion_matrix(y_test, y_pred)\n",
    "cr = classification_report(y_test, y_pred)\n",
    "\n",
    "print(cm)\n",
    "\n",
    "print(cr)"
   ]
  },
  {
   "cell_type": "code",
   "execution_count": 34,
   "id": "d53cfc93",
   "metadata": {},
   "outputs": [],
   "source": [
    "model_param = {\n",
    "    'DTC' : {\n",
    "        'model': DecisionTreeClassifier(),\n",
    "        'param': {\n",
    "            'criterion':['gini', 'entropy'],\n",
    "            'max_depth': np.arange(1, 22)\n",
    "        }        \n",
    "    },\n",
    "    'LR' : {\n",
    "        'model': LogisticRegression(),\n",
    "        'param': {\n",
    "            'penalty':['l1', 'l2'],\n",
    "            'C': np.logspace(-4, 4, 20)[:4],\n",
    "            'solver': ['liblinear'],\n",
    "            'max_iter': [100, 1000]\n",
    "        }\n",
    "        \n",
    "    },\n",
    "    'KNN' : {\n",
    "        'model': KNeighborsClassifier(),\n",
    "        'param': {\n",
    "            'n_neighbors':[5, 10],\n",
    "            'metric': ['minkowski', 'euclidean', 'manhattan'],\n",
    "            'p': [1, 2]\n",
    "        }        \n",
    "    },\n",
    "    'RF' : {\n",
    "        'model': RandomForestClassifier(n_estimators = 10, criterion = 'entropy'),\n",
    "        'param': {\n",
    "            'n_estimators':[5, 10, 15, 20],\n",
    "            'criterion': ['gini', 'entropy'],\n",
    "            'max_depth': [5, 10, 15, 20]\n",
    "        }        \n",
    "    },\n",
    "    'SVC' : {\n",
    "        'model': SVC(),\n",
    "        'param': {\n",
    "            'kernel':['linear', 'poly', 'rbf', 'sigmoid']\n",
    "        }\n",
    "    }\n",
    "}\n",
    "scores = []\n",
    "for model_name, parameter in model_param.items():\n",
    "    model_selection = GridSearchCV(\n",
    "        estimator = parameter['model'],\n",
    "        param_grid = parameter['param'],\n",
    "        cv=5,\n",
    "        return_train_score = False\n",
    "    )\n",
    "    model_selection.fit(X_train, y_train)\n",
    "    scores.append({\n",
    "        'Model': model_name,\n",
    "        'Best_Score': model_selection.best_score_,\n",
    "        'Best_params': model_selection.best_params_\n",
    "    })\n"
   ]
  },
  {
   "cell_type": "code",
   "execution_count": 35,
   "id": "1988f13d",
   "metadata": {},
   "outputs": [
    {
     "data": {
      "text/plain": [
       "[{'Model': 'DTC',\n",
       "  'Best_Score': 0.9411915354344561,\n",
       "  'Best_params': {'criterion': 'entropy', 'max_depth': 17}},\n",
       " {'Model': 'LR',\n",
       "  'Best_Score': 0.6870263052570565,\n",
       "  'Best_params': {'C': 0.0006951927961775605,\n",
       "   'max_iter': 100,\n",
       "   'penalty': 'l1',\n",
       "   'solver': 'liblinear'}},\n",
       " {'Model': 'KNN',\n",
       "  'Best_Score': 0.8411494696072275,\n",
       "  'Best_params': {'metric': 'minkowski', 'n_neighbors': 10, 'p': 1}},\n",
       " {'Model': 'RF',\n",
       "  'Best_Score': 0.9226107066032178,\n",
       "  'Best_params': {'criterion': 'gini', 'max_depth': 20, 'n_estimators': 20}},\n",
       " {'Model': 'SVC',\n",
       "  'Best_Score': 0.8872039575994644,\n",
       "  'Best_params': {'kernel': 'rbf'}}]"
      ]
     },
     "execution_count": 35,
     "metadata": {},
     "output_type": "execute_result"
    }
   ],
   "source": [
    "scores"
   ]
  },
  {
   "cell_type": "code",
   "execution_count": 38,
   "id": "b03240c4",
   "metadata": {},
   "outputs": [
    {
     "name": "stdout",
     "output_type": "stream",
     "text": [
      "Accuracy: 0.9282104080868588\n",
      "Classification Report:\n",
      "              precision    recall  f1-score   support\n",
      "\n",
      "         0.0       0.98      0.87      0.92      5331\n",
      "         1.0       0.88      0.99      0.93      5353\n",
      "\n",
      "    accuracy                           0.93     10684\n",
      "   macro avg       0.93      0.93      0.93     10684\n",
      "weighted avg       0.93      0.93      0.93     10684\n",
      "\n"
     ]
    }
   ],
   "source": [
    "import xgboost as xgb\n",
    "\n",
    "params = {\n",
    "    'objective': 'binary:logistic',  \n",
    "    'eval_metric': 'logloss',\n",
    "    'max_depth': 3,\n",
    "    'learning_rate': 0.1,\n",
    "    'n_estimators': 100\n",
    "}\n",
    "\n",
    "# Create and train the model\n",
    "model = xgb.XGBClassifier(**params)\n",
    "model.fit(X_train, y_train)\n",
    "\n",
    "y_pred = model.predict(X_test)\n",
    "\n",
    "accuracy = accuracy_score(y_test, y_pred)\n",
    "report = classification_report(y_test, y_pred)\n",
    "print(f\"Accuracy: {accuracy}\")\n",
    "print(f\"Classification Report:\\n{report}\")\n",
    "\n"
   ]
  },
  {
   "cell_type": "code",
   "execution_count": null,
   "id": "17b4d014",
   "metadata": {},
   "outputs": [],
   "source": []
  }
 ],
 "metadata": {
  "kernelspec": {
   "display_name": "Python 3 (ipykernel)",
   "language": "python",
   "name": "python3"
  },
  "language_info": {
   "codemirror_mode": {
    "name": "ipython",
    "version": 3
   },
   "file_extension": ".py",
   "mimetype": "text/x-python",
   "name": "python",
   "nbconvert_exporter": "python",
   "pygments_lexer": "ipython3",
   "version": "3.9.16"
  }
 },
 "nbformat": 4,
 "nbformat_minor": 5
}
