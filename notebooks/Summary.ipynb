{
 "cells": [
  {
   "cell_type": "code",
   "execution_count": 5,
   "id": "3756a619",
   "metadata": {},
   "outputs": [],
   "source": [
    "import pandas as pd\n",
    "from sklearn.model_selection import train_test_split\n",
    "from sklearn.preprocessing import OneHotEncoder, StandardScaler\n",
    "from sklearn.compose import ColumnTransformer\n",
    "from sklearn.linear_model import LogisticRegression\n",
    "from sklearn.tree import DecisionTreeClassifier\n",
    "from sklearn.metrics import accuracy_score, confusion_matrix, classification_report, f1_score\n",
    "from sklearn.pipeline import Pipeline"
   ]
  },
  {
   "cell_type": "code",
   "execution_count": 24,
   "id": "0ba5057a",
   "metadata": {},
   "outputs": [],
   "source": [
    "df = pd.read_csv(\"../data/processed/data.csv\")\n",
    "X = df.iloc[:, :-1]\n",
    "y = df.iloc[:, -1]"
   ]
  },
  {
   "cell_type": "code",
   "execution_count": 25,
   "id": "a7fc3965",
   "metadata": {},
   "outputs": [
    {
     "name": "stdout",
     "output_type": "stream",
     "text": [
      "[[ 1.81041533  0.29917431  0.02381101 ...  0.          0.\n",
      "   1.        ]\n",
      " [ 0.35838246 -0.42885395 -0.40030458 ...  0.          0.\n",
      "   1.        ]\n",
      " [-0.78250052 -0.43815233 -0.6894743  ...  0.          0.\n",
      "   1.        ]\n",
      " ...\n",
      " [ 1.3955488  -0.36996425 -0.32704825 ...  0.          0.\n",
      "   0.        ]\n",
      " [-0.67878388 -0.0782708   0.3361143  ...  0.          0.\n",
      "   0.        ]\n",
      " [-0.26391735  0.05776097 -0.54681724 ...  0.          0.\n",
      "   0.        ]]\n"
     ]
    }
   ],
   "source": [
    "numerical_features = ['age', 'balance', 'duration', 'DaysSinceLastContact']\n",
    "categorical_features = ['job', 'marital', 'education', 'contact']\n",
    "numerical_transformer = StandardScaler()\n",
    "categorical_transformer = OneHotEncoder(drop='first')\n",
    "preprocessor = ColumnTransformer(\n",
    "    transformers=[\n",
    "        ('num', numerical_transformer, numerical_features),\n",
    "        ('cat', categorical_transformer, categorical_features)\n",
    "    ])\n",
    "\n",
    "# Create a pipeline with the preprocessor\n",
    "pipeline = Pipeline(steps=[('preprocessor', preprocessor)])\n",
    "\n",
    "# Fit and transform the data\n",
    "transformed_data = pipeline.fit_transform(df)\n",
    "\n",
    "print(transformed_data)"
   ]
  },
  {
   "cell_type": "code",
   "execution_count": 40,
   "id": "b4704139",
   "metadata": {},
   "outputs": [
    {
     "name": "stdout",
     "output_type": "stream",
     "text": [
      "0.3379224030037547\n",
      "Accuracy: 0.93\n",
      "[[7336   92]\n",
      " [ 437  135]]\n",
      "              precision    recall  f1-score   support\n",
      "\n",
      "           0       0.94      0.99      0.97      7428\n",
      "           1       0.59      0.24      0.34       572\n",
      "\n",
      "    accuracy                           0.93      8000\n",
      "   macro avg       0.77      0.61      0.65      8000\n",
      "weighted avg       0.92      0.93      0.92      8000\n",
      "\n"
     ]
    }
   ],
   "source": [
    "X_train, X_test, y_train, y_test = train_test_split(transformed_data, y, test_size=0.2)\n",
    "model = LogisticRegression(max_iter=50000)\n",
    "\n",
    "# Train the model\n",
    "model.fit(X_train, y_train)\n",
    "\n",
    "# Make predictions\n",
    "y_pred = model.predict(X_test)\n",
    "\n",
    "f1_1 = f1_score(y_test, y_pred, average='binary')\n",
    "print(f1_1)\n",
    "# Calculate accuracy\n",
    "accuracy = accuracy_score(y_test, y_pred)\n",
    "print(f\"Accuracy: {accuracy:.2f}\")\n",
    "\n",
    "cm = confusion_matrix(y_test, y_pred)\n",
    "cr = classification_report(y_test, y_pred)\n",
    "\n",
    "print(cm)\n",
    "\n",
    "print(cr)"
   ]
  },
  {
   "cell_type": "code",
   "execution_count": 38,
   "id": "92c7d7b9",
   "metadata": {},
   "outputs": [
    {
     "name": "stdout",
     "output_type": "stream",
     "text": [
      "Accuracy: 0.91\n",
      "0.4262023217247098\n",
      "[[7051  369]\n",
      " [ 323  257]]\n",
      "              precision    recall  f1-score   support\n",
      "\n",
      "           0       0.96      0.95      0.95      7420\n",
      "           1       0.41      0.44      0.43       580\n",
      "\n",
      "    accuracy                           0.91      8000\n",
      "   macro avg       0.68      0.70      0.69      8000\n",
      "weighted avg       0.92      0.91      0.92      8000\n",
      "\n"
     ]
    }
   ],
   "source": [
    "X_train, X_test, y_train, y_test = train_test_split(transformed_data, y, test_size=0.2, random_state = 32)\n",
    "model = DecisionTreeClassifier()\n",
    "# Train the model\n",
    "model.fit(X_train, y_train)\n",
    "\n",
    "# Make predictions\n",
    "y_pred = model.predict(X_test)\n",
    "\n",
    "# Calculate accuracy\n",
    "accuracy = accuracy_score(y_test, y_pred)\n",
    "print(f\"Accuracy: {accuracy:.2f}\")\n",
    "\n",
    "f1_1 = f1_score(y_test, y_pred, average='binary')\n",
    "print(f1_1)\n",
    "cm = confusion_matrix(y_test, y_pred)\n",
    "cr = classification_report(y_test, y_pred)\n",
    "\n",
    "print(cm)\n",
    "\n",
    "print(cr)"
   ]
  },
  {
   "cell_type": "code",
   "execution_count": null,
   "id": "dceea01c",
   "metadata": {},
   "outputs": [],
   "source": []
  }
 ],
 "metadata": {
  "kernelspec": {
   "display_name": "Python 3 (ipykernel)",
   "language": "python",
   "name": "python3"
  },
  "language_info": {
   "codemirror_mode": {
    "name": "ipython",
    "version": 3
   },
   "file_extension": ".py",
   "mimetype": "text/x-python",
   "name": "python",
   "nbconvert_exporter": "python",
   "pygments_lexer": "ipython3",
   "version": "3.9.16"
  }
 },
 "nbformat": 4,
 "nbformat_minor": 5
}
